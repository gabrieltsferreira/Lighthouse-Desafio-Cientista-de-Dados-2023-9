{
 "cells": [
  {
   "cell_type": "markdown",
   "id": "aa07de3f",
   "metadata": {},
   "source": [
    "# Importando bibliotecas utilizadas"
   ]
  },
  {
   "cell_type": "code",
   "execution_count": 1,
   "id": "c99eda59",
   "metadata": {},
   "outputs": [],
   "source": [
    "import pandas as pd\n",
    "import numpy as np\n",
    "import seaborn as sns\n",
    "import matplotlib.pyplot as plt"
   ]
  },
  {
   "cell_type": "markdown",
   "id": "5dccbe50",
   "metadata": {},
   "source": [
    "# Carregando arquivos csv"
   ]
  },
  {
   "cell_type": "markdown",
   "id": "b616d30e",
   "metadata": {},
   "source": [
    "Os arquivos originais retornaram erro de decode na primeira tentativa de serem lidos"
   ]
  },
  {
   "cell_type": "code",
   "execution_count": 2,
   "id": "6b02cd13",
   "metadata": {},
   "outputs": [],
   "source": [
    "# data = pd.read_csv('cars_train.csv') --> UnicodeDecodeError"
   ]
  },
  {
   "cell_type": "markdown",
   "id": "56f09c7d",
   "metadata": {},
   "source": [
    "Solução: abrir arquivos originais no google sheets e fazer o download do csv novamente."
   ]
  },
  {
   "cell_type": "code",
   "execution_count": 3,
   "id": "f509e3da",
   "metadata": {},
   "outputs": [],
   "source": [
    "data = pd.read_csv('cars_train - fixed.csv')"
   ]
  }
 ],
 "metadata": {
  "kernelspec": {
   "display_name": "Python 3 (ipykernel)",
   "language": "python",
   "name": "python3"
  },
  "language_info": {
   "codemirror_mode": {
    "name": "ipython",
    "version": 3
   },
   "file_extension": ".py",
   "mimetype": "text/x-python",
   "name": "python",
   "nbconvert_exporter": "python",
   "pygments_lexer": "ipython3",
   "version": "3.11.3"
  }
 },
 "nbformat": 4,
 "nbformat_minor": 5
}
